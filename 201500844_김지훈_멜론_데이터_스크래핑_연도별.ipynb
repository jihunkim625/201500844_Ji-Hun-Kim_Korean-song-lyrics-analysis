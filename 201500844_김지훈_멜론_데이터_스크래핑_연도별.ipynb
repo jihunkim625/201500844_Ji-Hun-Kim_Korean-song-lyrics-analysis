{
  "nbformat": 4,
  "nbformat_minor": 0,
  "metadata": {
    "colab": {
      "name": "Untitled3.ipynb",
      "provenance": [],
      "private_outputs": true,
      "authorship_tag": "ABX9TyPBvOhOmhp7FNs++Zb4LDGs",
      "include_colab_link": true
    },
    "kernelspec": {
      "name": "python3",
      "display_name": "Python 3"
    }
  },
  "cells": [
    {
      "cell_type": "markdown",
      "metadata": {
        "id": "view-in-github",
        "colab_type": "text"
      },
      "source": [
        "<a href=\"https://colab.research.google.com/github/jihunkim625/201500844_JiHunKim/blob/main/201500844_%EA%B9%80%EC%A7%80%ED%9B%88_%EB%A9%9C%EB%A1%A0_%EB%8D%B0%EC%9D%B4%ED%84%B0_%EC%8A%A4%ED%81%AC%EB%9E%98%ED%95%91_%EC%97%B0%EB%8F%84%EB%B3%84.ipynb\" target=\"_parent\"><img src=\"https://colab.research.google.com/assets/colab-badge.svg\" alt=\"Open In Colab\"/></a>"
      ]
    },
    {
      "cell_type": "code",
      "metadata": {
        "id": "8aqSnZobCuA8"
      },
      "source": [
        "# install chromium, its driver, and selenium\n",
        "!apt-get update\n",
        "!apt install chromium-chromedriver\n",
        "!cp /usr/lib/chromium-browser/chromedriver /usr/bin\n",
        "!pip install selenium\n",
        "# set options to be headless, ..\n",
        "from selenium import webdriver\n",
        "options = webdriver.ChromeOptions()\n",
        "options.add_argument('--headless')\n",
        "options.add_argument('--no-sandbox')\n",
        "options.add_argument('--disable-dev-shm-usage')\n",
        "import pandas as pd"
      ],
      "execution_count": null,
      "outputs": []
    },
    {
      "cell_type": "code",
      "metadata": {
        "id": "4jmn1reECykA"
      },
      "source": [
        "for i in range(1964, 2020, 1):\n",
        "  url = 'https://www.melon.com/chart/age/index.htm?chartType=YE&chartGenre=KPOP&chartDate=' + str(i)\n",
        "  year = str(i)\n",
        "  print(url)\n",
        "  \n",
        "  wd = webdriver.Chrome('chromedriver',options=options)\n",
        "  wd.get(url)\n",
        "  \n",
        "  title=wd.find_elements_by_class_name('ellipsis.rank01')\n",
        "  \n",
        "  title2=[]\n",
        "  for i in title:\n",
        "    title2.append(i.text)\n",
        "  del title2[50:]\n",
        "  print(title2)\n",
        "\n",
        "  singer=wd.find_elements_by_class_name('ellipsis.rank02')\n",
        "  singer2=[]\n",
        "  for i in singer:\n",
        "      singer2.append(i.text)\n",
        "  del singer2[50:]\n",
        "  print(singer2)\n",
        "\n",
        "  songTagList = wd.find_elements_by_class_name('like')\n",
        "  bunho=[]\n",
        "  for i in songTagList:\n",
        "      bunho.append(i.get_attribute('data-song-no'))\n",
        "\n",
        "  print(bunho)\n",
        "\n",
        "  LYRIC=[]\n",
        "  for i in bunho:\n",
        "    wd.get(\"https://www.melon.com/song/detail.htm?songId=\" + i)\n",
        "    lyric=wd.find_element_by_class_name(\"wrap_lyric\")\n",
        "    LYRIC.append(lyric.text)\n",
        "\n",
        "  print(LYRIC)\n",
        "\n",
        "  print(len(title2))\n",
        "  print(len(singer2))\n",
        "  print(len(bunho))\n",
        "  print(len(LYRIC))\n",
        "\n",
        "  data = {'Titles' : title2 , 'Singers': singer2 , 'Lyric':LYRIC}\n",
        "  result = pd.DataFrame.from_dict(data, orient='index')\n",
        "  result.transpose()\n",
        "  result\n",
        "\n",
        "  filename = \"멜론TOP50 가사\" + year + \".xlsx\"\n",
        "  result.to_excel(filename, encoding='utf-8')"
      ],
      "execution_count": null,
      "outputs": []
    }
  ]
}
